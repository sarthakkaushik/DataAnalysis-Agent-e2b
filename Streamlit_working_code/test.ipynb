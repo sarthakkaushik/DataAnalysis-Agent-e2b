{
 "cells": [
  {
   "cell_type": "code",
   "execution_count": 2,
   "metadata": {},
   "outputs": [
    {
     "data": {
      "text/plain": [
       "True"
      ]
     },
     "execution_count": 2,
     "metadata": {},
     "output_type": "execute_result"
    }
   ],
   "source": [
    "from pandas_agent import create_agent, process_query\n",
    "import os\n",
    "from langchain_openai import ChatOpenAI\n",
    "from dotenv import load_dotenv\n",
    "import pandas as pd\n",
    "load_dotenv()\n",
    "\n",
    "\n"
   ]
  },
  {
   "cell_type": "code",
   "execution_count": 3,
   "metadata": {},
   "outputs": [
    {
     "ename": "TypeError",
     "evalue": "create_agent() got an unexpected keyword argument 'dataframe'",
     "output_type": "error",
     "traceback": [
      "\u001b[0;31m---------------------------------------------------------------------------\u001b[0m",
      "\u001b[0;31mTypeError\u001b[0m                                 Traceback (most recent call last)",
      "Cell \u001b[0;32mIn[3], line 8\u001b[0m\n\u001b[1;32m      5\u001b[0m \u001b[38;5;66;03m# Read the CSV file\u001b[39;00m\n\u001b[1;32m      6\u001b[0m df \u001b[38;5;241m=\u001b[39m pd\u001b[38;5;241m.\u001b[39mread_csv(\u001b[38;5;124m\"\u001b[39m\u001b[38;5;124m./data/Obstructive Lung Diseases - Copy.csv\u001b[39m\u001b[38;5;124m\"\u001b[39m)\n\u001b[0;32m----> 8\u001b[0m agent\u001b[38;5;241m=\u001b[39m\u001b[43mcreate_agent\u001b[49m\u001b[43m(\u001b[49m\u001b[43mapi_key\u001b[49m\u001b[38;5;241;43m=\u001b[39;49m\u001b[43mapi_key\u001b[49m\u001b[43m,\u001b[49m\u001b[43m \u001b[49m\u001b[43mmodel\u001b[49m\u001b[38;5;241;43m=\u001b[39;49m\u001b[38;5;124;43m'\u001b[39;49m\u001b[38;5;124;43mgpt-4-0613\u001b[39;49m\u001b[38;5;124;43m'\u001b[39;49m\u001b[43m,\u001b[49m\u001b[43m \u001b[49m\u001b[43mdataframe\u001b[49m\u001b[38;5;241;43m=\u001b[39;49m\u001b[43mdf\u001b[49m\u001b[43m)\u001b[49m\n",
      "\u001b[0;31mTypeError\u001b[0m: create_agent() got an unexpected keyword argument 'dataframe'"
     ]
    }
   ],
   "source": [
    "# Initialize the language model\n",
    "api_key= os.getenv(\"OPENAI_API_KEY\")\n",
    "llm = ChatOpenAI(model='gpt-4-0613', temperature=0)\n",
    "\n",
    "# Read the CSV file\n",
    "df = pd.read_csv(\"./data/Obstructive Lung Diseases - Copy.csv\")\n",
    "\n",
    "agent=create_agent(api_key=api_key, model='gpt-4-0613', dataframe=df)"
   ]
  },
  {
   "cell_type": "code",
   "execution_count": null,
   "metadata": {},
   "outputs": [
    {
     "ename": "SyntaxError",
     "evalue": "incomplete input (567911289.py, line 6)",
     "output_type": "error",
     "traceback": [
      "\u001b[0;36m  Cell \u001b[0;32mIn[1], line 6\u001b[0;36m\u001b[0m\n\u001b[0;31m    query=\"\"\"\u001b[0m\n\u001b[0m          ^\u001b[0m\n\u001b[0;31mSyntaxError\u001b[0m\u001b[0;31m:\u001b[0m incomplete input\n"
     ]
    }
   ],
   "source": [
    "query=\"\"\"\n",
    "Can you weigh Patient Population at 90%, Competition at 5%, and Country Operations \n",
    "at 5% for Obstructive Lung Diseases to give \n",
    "me the prioritized country list? Give the output in proper format with numbers.\"\"\"\n",
    "\n",
    "query=\"\"\"\n",
    "Can you provide a table of the countries prioritized based on patient incidence in ascending order?\n",
    "\"\"\"\n",
    "result=agent.run(query)"
   ]
  },
  {
   "cell_type": "code",
   "execution_count": null,
   "metadata": {},
   "outputs": [
    {
     "name": "stdout",
     "output_type": "stream",
     "text": [
      "\n",
      "\n",
      "\u001b[1m> Entering new AgentExecutor chain...\u001b[0m\n",
      "\u001b[32;1m\u001b[1;3mThought: To prioritize the country list, we need to calculate a weighted score for each country. The weights are given as 90% for Patient Population, 5% for Competition, and 5% for Country Operations. We can calculate this score by multiplying each column by its weight and then summing the results. \n",
      "\n",
      "Action: python_repl_ast\n",
      "Action Input: df['Score'] = df['Patient Population']*0.9 + df['Competition']*0.05 + df['Country Operations']*0.05\u001b[0m\u001b[36;1m\u001b[1;3m\u001b[0m\u001b[32;1m\u001b[1;3mI have calculated the weighted score for each country. Now, I need to sort the dataframe by this score in descending order to get the prioritized country list.\n",
      "\n",
      "Action: python_repl_ast\n",
      "Action Input: df_sorted = df.sort_values(by='Score', ascending=False)\u001b[0m\u001b[36;1m\u001b[1;3m\u001b[0m\u001b[32;1m\u001b[1;3mI have sorted the dataframe by the calculated score in descending order. Now, I need to print the sorted dataframe to see the prioritized country list.\n",
      "\n",
      "Action: python_repl_ast\n",
      "Action Input: print(df_sorted[['Country', 'Score']])\u001b[0m\u001b[36;1m\u001b[1;3mKeyError: \"['Country'] not in index\"\u001b[0m\u001b[32;1m\u001b[1;3mIt seems like there was an error because the 'Country' column is not in the dataframe. I need to check the columns of the dataframe to confirm.\n",
      "\n",
      "Action: python_repl_ast\n",
      "Action Input: print(df_sorted.columns)\u001b[0m\u001b[36;1m\u001b[1;3mIndex(['Country ', 'Driver', 'Patient Population', 'Competition',\n",
      "       'TAE/Country ', 'Country Operations', 'Weighted Score', 'Score'],\n",
      "      dtype='object')\n",
      "\u001b[0m\u001b[32;1m\u001b[1;3mI see that the 'Country' column actually has a trailing space in its name. I need to correct this in my code to print the sorted dataframe.\n",
      "\n",
      "Action: python_repl_ast\n",
      "Action Input: print(df_sorted[['Country ', 'Score']])\u001b[0m\u001b[36;1m\u001b[1;3m              Country   Score\n",
      "0        United States   2.95\n",
      "11              Poland   2.95\n",
      "4               France   2.90\n",
      "1                China   2.90\n",
      "8               Brazil   2.90\n",
      "21        South Africa   2.90\n",
      "10           Australia   2.85\n",
      "5              Germany   2.85\n",
      "16           Argentina   2.10\n",
      "7                Spain   2.05\n",
      "2                Japan   2.05\n",
      "17   Republic of Korea   2.00\n",
      "19         Netherlands   1.95\n",
      "6                Italy   1.95\n",
      "13              Turkey   1.95\n",
      "9       United Kingdom   1.90\n",
      "23             Denmark   1.20\n",
      "3   Russian Federation   1.15\n",
      "12              Canada   1.10\n",
      "14             Ukraine   1.10\n",
      "15              Mexico   1.10\n",
      "18              Taiwan   1.10\n",
      "20             Belgium   1.10\n",
      "22         Switzerland   1.00\n",
      "\u001b[0m\u001b[32;1m\u001b[1;3mI now have the prioritized country list based on the weighted score. The score is calculated by weighing Patient Population at 90%, Competition at 5%, and Country Operations at 5%.\n",
      "\n",
      "Final Answer: \n",
      "Here is the prioritized country list:\n",
      "1. United States: 2.95\n",
      "2. Poland: 2.95\n",
      "3. France: 2.90\n",
      "4. China: 2.90\n",
      "5. Brazil: 2.90\n",
      "6. South Africa: 2.90\n",
      "7. Australia: 2.85\n",
      "8. Germany: 2.85\n",
      "9. Argentina: 2.10\n",
      "10. Spain: 2.05\n",
      "11. Japan: 2.05\n",
      "12. Republic of Korea: 2.00\n",
      "13. Netherlands: 1.95\n",
      "14. Italy: 1.95\n",
      "15. Turkey: 1.95\n",
      "16. United Kingdom: 1.90\n",
      "17. Denmark: 1.20\n",
      "18. Russian Federation: 1.15\n",
      "19. Canada: 1.10\n",
      "20. Ukraine: 1.10\n",
      "21. Mexico: 1.10\n",
      "22. Taiwan: 1.10\n",
      "23. Belgium: 1.10\n",
      "24. Switzerland: 1.00\u001b[0m\n",
      "\n",
      "\u001b[1m> Finished chain.\u001b[0m\n"
     ]
    }
   ],
   "source": [
    "result=process_query(agent,query)"
   ]
  },
  {
   "cell_type": "code",
   "execution_count": null,
   "metadata": {},
   "outputs": [
    {
     "name": "stdout",
     "output_type": "stream",
     "text": [
      "Here is the prioritized country list:\n",
      "1. United States: 2.95\n",
      "2. Poland: 2.95\n",
      "3. France: 2.90\n",
      "4. China: 2.90\n",
      "5. Brazil: 2.90\n",
      "6. South Africa: 2.90\n",
      "7. Australia: 2.85\n",
      "8. Germany: 2.85\n",
      "9. Argentina: 2.10\n",
      "10. Spain: 2.05\n",
      "11. Japan: 2.05\n",
      "12. Republic of Korea: 2.00\n",
      "13. Netherlands: 1.95\n",
      "14. Italy: 1.95\n",
      "15. Turkey: 1.95\n",
      "16. United Kingdom: 1.90\n",
      "17. Denmark: 1.20\n",
      "18. Russian Federation: 1.15\n",
      "19. Canada: 1.10\n",
      "20. Ukraine: 1.10\n",
      "21. Mexico: 1.10\n",
      "22. Taiwan: 1.10\n",
      "23. Belgium: 1.10\n",
      "24. Switzerland: 1.00\n"
     ]
    }
   ],
   "source": [
    "print(result)"
   ]
  }
 ],
 "metadata": {
  "language_info": {
   "name": "python"
  }
 },
 "nbformat": 4,
 "nbformat_minor": 2
}
