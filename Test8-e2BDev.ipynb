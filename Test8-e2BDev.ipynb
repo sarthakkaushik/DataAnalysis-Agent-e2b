{
 "cells": [
  {
   "cell_type": "code",
   "execution_count": null,
   "metadata": {},
   "outputs": [],
   "source": [
    "# !pip install --upgrade --quiet  langchain e2b langchain-community\n",
    "# !pip install e2b-code-interpreter"
   ]
  },
  {
   "cell_type": "code",
   "execution_count": 20,
   "metadata": {},
   "outputs": [
    {
     "name": "stdout",
     "output_type": "stream",
     "text": [
      "Requirement already satisfied: e2b in /system/conda/miniconda3/envs/cloudspace/lib/python3.10/site-packages (0.17.1)\n",
      "Requirement already satisfied: aenum>=3.1.11 in /system/conda/miniconda3/envs/cloudspace/lib/python3.10/site-packages (from e2b) (3.1.15)\n",
      "Requirement already satisfied: aiohttp>=3.8.4 in /system/conda/miniconda3/envs/cloudspace/lib/python3.10/site-packages (from e2b) (3.9.5)\n",
      "Requirement already satisfied: jsonrpcclient>=4.0.3 in /system/conda/miniconda3/envs/cloudspace/lib/python3.10/site-packages (from e2b) (4.0.3)\n",
      "Requirement already satisfied: pydantic in /system/conda/miniconda3/envs/cloudspace/lib/python3.10/site-packages (from e2b) (2.7.4)\n",
      "Requirement already satisfied: python-dateutil>=2.8.2 in /system/conda/miniconda3/envs/cloudspace/lib/python3.10/site-packages (from e2b) (2.9.0.post0)\n",
      "Requirement already satisfied: requests>=2.31.0 in /system/conda/miniconda3/envs/cloudspace/lib/python3.10/site-packages (from e2b) (2.32.3)\n",
      "Requirement already satisfied: typing-extensions>=4.8.0 in /system/conda/miniconda3/envs/cloudspace/lib/python3.10/site-packages (from e2b) (4.12.2)\n",
      "Requirement already satisfied: urllib3>=1.25.3 in /system/conda/miniconda3/envs/cloudspace/lib/python3.10/site-packages (from e2b) (2.2.1)\n",
      "Requirement already satisfied: websockets>=11.0.3 in /system/conda/miniconda3/envs/cloudspace/lib/python3.10/site-packages (from e2b) (12.0)\n",
      "Requirement already satisfied: aiosignal>=1.1.2 in /system/conda/miniconda3/envs/cloudspace/lib/python3.10/site-packages (from aiohttp>=3.8.4->e2b) (1.3.1)\n",
      "Requirement already satisfied: attrs>=17.3.0 in /system/conda/miniconda3/envs/cloudspace/lib/python3.10/site-packages (from aiohttp>=3.8.4->e2b) (23.2.0)\n",
      "Requirement already satisfied: frozenlist>=1.1.1 in /system/conda/miniconda3/envs/cloudspace/lib/python3.10/site-packages (from aiohttp>=3.8.4->e2b) (1.4.1)\n",
      "Requirement already satisfied: multidict<7.0,>=4.5 in /system/conda/miniconda3/envs/cloudspace/lib/python3.10/site-packages (from aiohttp>=3.8.4->e2b) (6.0.5)\n",
      "Requirement already satisfied: yarl<2.0,>=1.0 in /system/conda/miniconda3/envs/cloudspace/lib/python3.10/site-packages (from aiohttp>=3.8.4->e2b) (1.9.4)\n",
      "Requirement already satisfied: async-timeout<5.0,>=4.0 in /system/conda/miniconda3/envs/cloudspace/lib/python3.10/site-packages (from aiohttp>=3.8.4->e2b) (4.0.3)\n",
      "Requirement already satisfied: six>=1.5 in /system/conda/miniconda3/envs/cloudspace/lib/python3.10/site-packages (from python-dateutil>=2.8.2->e2b) (1.16.0)\n",
      "Requirement already satisfied: charset-normalizer<4,>=2 in /system/conda/miniconda3/envs/cloudspace/lib/python3.10/site-packages (from requests>=2.31.0->e2b) (3.3.2)\n",
      "Requirement already satisfied: idna<4,>=2.5 in /system/conda/miniconda3/envs/cloudspace/lib/python3.10/site-packages (from requests>=2.31.0->e2b) (3.7)\n",
      "Requirement already satisfied: certifi>=2017.4.17 in /system/conda/miniconda3/envs/cloudspace/lib/python3.10/site-packages (from requests>=2.31.0->e2b) (2024.6.2)\n",
      "Requirement already satisfied: annotated-types>=0.4.0 in /system/conda/miniconda3/envs/cloudspace/lib/python3.10/site-packages (from pydantic->e2b) (0.7.0)\n",
      "Requirement already satisfied: pydantic-core==2.18.4 in /system/conda/miniconda3/envs/cloudspace/lib/python3.10/site-packages (from pydantic->e2b) (2.18.4)\n"
     ]
    }
   ],
   "source": [
    "!pip install e2b\n"
   ]
  },
  {
   "cell_type": "code",
   "execution_count": 18,
   "metadata": {},
   "outputs": [
    {
     "data": {
      "text/plain": [
       "True"
      ]
     },
     "execution_count": 18,
     "metadata": {},
     "output_type": "execute_result"
    }
   ],
   "source": [
    "import os\n",
    "# from langchain_community.tools import E2BDataAnalysisTool\n",
    "from langchain_community.tools.e2b_data_analysis.tool import E2BDataAnalysisTool\n",
    "\n",
    "\n",
    "from langchain.agents import AgentType, initialize_agent\n",
    "from langchain_openai import ChatOpenAI\n",
    "from dotenv import load_dotenv\n",
    "load_dotenv()\n",
    "\n",
    "\n"
   ]
  },
  {
   "cell_type": "code",
   "execution_count": 13,
   "metadata": {},
   "outputs": [],
   "source": [
    "# Artifacts are charts created by matplotlib when `plt.show()` is called\n",
    "def save_artifact(artifact):\n",
    "    print(\"New matplotlib chart generated:\", artifact.name)\n",
    "    # Download the artifact as `bytes` and leave it up to the user to display them (on frontend, for example)\n",
    "    file = artifact.download()\n",
    "    basename = os.path.basename(artifact.name)\n",
    "\n",
    "    # Save the chart to the `charts` directory\n",
    "    with open(f\"./charts/{basename}\", \"wb\") as f:\n",
    "        f.write(file)\n",
    "\n"
   ]
  },
  {
   "cell_type": "code",
   "execution_count": 21,
   "metadata": {},
   "outputs": [],
   "source": [
    "from langchain_community.tools import E2BDataAnalysisTool\n",
    "\n",
    "E2BDataAnalysisTool(\n",
    "    \n",
    ")\n"
   ]
  },
  {
   "cell_type": "code",
   "execution_count": 22,
   "metadata": {},
   "outputs": [
    {
     "ename": "ImportError",
     "evalue": "Unable to import e2b, please install with `pip install e2b`.",
     "output_type": "error",
     "traceback": [
      "\u001b[0;31m---------------------------------------------------------------------------\u001b[0m",
      "\u001b[0;31mImportError\u001b[0m                               Traceback (most recent call last)",
      "File \u001b[0;32m/home/zeus/miniconda3/envs/cloudspace/lib/python3.10/site-packages/langchain_community/tools/e2b_data_analysis/tool.py:117\u001b[0m, in \u001b[0;36mE2BDataAnalysisTool.__init__\u001b[0;34m(self, api_key, cwd, env_vars, on_stdout, on_stderr, on_artifact, on_exit, **kwargs)\u001b[0m\n\u001b[1;32m    116\u001b[0m \u001b[38;5;28;01mtry\u001b[39;00m:\n\u001b[0;32m--> 117\u001b[0m     \u001b[38;5;28;01mfrom\u001b[39;00m \u001b[38;5;21;01me2b\u001b[39;00m \u001b[38;5;28;01mimport\u001b[39;00m DataAnalysis\n\u001b[1;32m    118\u001b[0m \u001b[38;5;28;01mexcept\u001b[39;00m \u001b[38;5;167;01mImportError\u001b[39;00m \u001b[38;5;28;01mas\u001b[39;00m e:\n",
      "\u001b[0;31mImportError\u001b[0m: cannot import name 'DataAnalysis' from 'e2b' (/home/zeus/miniconda3/envs/cloudspace/lib/python3.10/site-packages/e2b/__init__.py)",
      "\nThe above exception was the direct cause of the following exception:\n",
      "\u001b[0;31mImportError\u001b[0m                               Traceback (most recent call last)",
      "Cell \u001b[0;32mIn[22], line 1\u001b[0m\n\u001b[0;32m----> 1\u001b[0m \u001b[43mE2BDataAnalysisTool\u001b[49m\u001b[43m(\u001b[49m\u001b[43m)\u001b[49m\n\u001b[1;32m      2\u001b[0m \u001b[38;5;66;03m# dir(E2BDataAnalysisTool())\u001b[39;00m\n",
      "File \u001b[0;32m/home/zeus/miniconda3/envs/cloudspace/lib/python3.10/site-packages/langchain_community/tools/e2b_data_analysis/tool.py:119\u001b[0m, in \u001b[0;36mE2BDataAnalysisTool.__init__\u001b[0;34m(self, api_key, cwd, env_vars, on_stdout, on_stderr, on_artifact, on_exit, **kwargs)\u001b[0m\n\u001b[1;32m    117\u001b[0m     \u001b[38;5;28;01mfrom\u001b[39;00m \u001b[38;5;21;01me2b\u001b[39;00m \u001b[38;5;28;01mimport\u001b[39;00m DataAnalysis\n\u001b[1;32m    118\u001b[0m \u001b[38;5;28;01mexcept\u001b[39;00m \u001b[38;5;167;01mImportError\u001b[39;00m \u001b[38;5;28;01mas\u001b[39;00m e:\n\u001b[0;32m--> 119\u001b[0m     \u001b[38;5;28;01mraise\u001b[39;00m \u001b[38;5;167;01mImportError\u001b[39;00m(\n\u001b[1;32m    120\u001b[0m         \u001b[38;5;124m\"\u001b[39m\u001b[38;5;124mUnable to import e2b, please install with `pip install e2b`.\u001b[39m\u001b[38;5;124m\"\u001b[39m\n\u001b[1;32m    121\u001b[0m     ) \u001b[38;5;28;01mfrom\u001b[39;00m \u001b[38;5;21;01me\u001b[39;00m\n\u001b[1;32m    123\u001b[0m \u001b[38;5;66;03m# If no API key is provided, E2B will try to read it from the environment\u001b[39;00m\n\u001b[1;32m    124\u001b[0m \u001b[38;5;66;03m# variable E2B_API_KEY\u001b[39;00m\n\u001b[1;32m    125\u001b[0m \u001b[38;5;28msuper\u001b[39m()\u001b[38;5;241m.\u001b[39m\u001b[38;5;21m__init__\u001b[39m(description\u001b[38;5;241m=\u001b[39mbase_description, \u001b[38;5;241m*\u001b[39m\u001b[38;5;241m*\u001b[39mkwargs)\n",
      "\u001b[0;31mImportError\u001b[0m: Unable to import e2b, please install with `pip install e2b`."
     ]
    }
   ],
   "source": [
    "E2BDataAnalysisTool()\n",
    "# dir(E2BDataAnalysisTool())\n"
   ]
  },
  {
   "cell_type": "code",
   "execution_count": 16,
   "metadata": {},
   "outputs": [
    {
     "ename": "ImportError",
     "evalue": "Unable to import e2b, please install with `pip install e2b`.",
     "output_type": "error",
     "traceback": [
      "\u001b[0;31m---------------------------------------------------------------------------\u001b[0m",
      "\u001b[0;31mImportError\u001b[0m                               Traceback (most recent call last)",
      "File \u001b[0;32m/home/zeus/miniconda3/envs/cloudspace/lib/python3.10/site-packages/langchain_community/tools/e2b_data_analysis/tool.py:117\u001b[0m, in \u001b[0;36mE2BDataAnalysisTool.__init__\u001b[0;34m(self, api_key, cwd, env_vars, on_stdout, on_stderr, on_artifact, on_exit, **kwargs)\u001b[0m\n\u001b[1;32m    116\u001b[0m \u001b[38;5;28;01mtry\u001b[39;00m:\n\u001b[0;32m--> 117\u001b[0m     \u001b[38;5;28;01mfrom\u001b[39;00m \u001b[38;5;21;01me2b\u001b[39;00m \u001b[38;5;28;01mimport\u001b[39;00m DataAnalysis\n\u001b[1;32m    118\u001b[0m \u001b[38;5;28;01mexcept\u001b[39;00m \u001b[38;5;167;01mImportError\u001b[39;00m \u001b[38;5;28;01mas\u001b[39;00m e:\n",
      "\u001b[0;31mImportError\u001b[0m: cannot import name 'DataAnalysis' from 'e2b' (/home/zeus/miniconda3/envs/cloudspace/lib/python3.10/site-packages/e2b/__init__.py)",
      "\nThe above exception was the direct cause of the following exception:\n",
      "\u001b[0;31mImportError\u001b[0m                               Traceback (most recent call last)",
      "Cell \u001b[0;32mIn[16], line 1\u001b[0m\n\u001b[0;32m----> 1\u001b[0m e2b_data_analysis_tool \u001b[38;5;241m=\u001b[39m \u001b[43mE2BDataAnalysisTool\u001b[49m\u001b[43m(\u001b[49m\n\u001b[1;32m      2\u001b[0m \u001b[43m    \u001b[49m\u001b[38;5;66;43;03m# Pass environment variables to the sandbox\u001b[39;49;00m\n\u001b[1;32m      3\u001b[0m \u001b[43m    \u001b[49m\u001b[38;5;66;43;03m# env_vars={\"MY_SECRET\": \"secret_value\"},\u001b[39;49;00m\n\u001b[1;32m      4\u001b[0m \u001b[43m    \u001b[49m\u001b[38;5;66;43;03m# on_stdout=lambda stdout: print(\"stdout:\", stdout),\u001b[39;49;00m\n\u001b[1;32m      5\u001b[0m \u001b[43m    \u001b[49m\u001b[38;5;66;43;03m# on_stderr=lambda stderr: print(\"stderr:\", stderr),\u001b[39;49;00m\n\u001b[1;32m      6\u001b[0m \u001b[43m    \u001b[49m\u001b[38;5;66;43;03m# on_artifact=save_artifact,\u001b[39;49;00m\n\u001b[1;32m      7\u001b[0m \u001b[43m)\u001b[49m\n",
      "File \u001b[0;32m/home/zeus/miniconda3/envs/cloudspace/lib/python3.10/site-packages/langchain_community/tools/e2b_data_analysis/tool.py:119\u001b[0m, in \u001b[0;36mE2BDataAnalysisTool.__init__\u001b[0;34m(self, api_key, cwd, env_vars, on_stdout, on_stderr, on_artifact, on_exit, **kwargs)\u001b[0m\n\u001b[1;32m    117\u001b[0m     \u001b[38;5;28;01mfrom\u001b[39;00m \u001b[38;5;21;01me2b\u001b[39;00m \u001b[38;5;28;01mimport\u001b[39;00m DataAnalysis\n\u001b[1;32m    118\u001b[0m \u001b[38;5;28;01mexcept\u001b[39;00m \u001b[38;5;167;01mImportError\u001b[39;00m \u001b[38;5;28;01mas\u001b[39;00m e:\n\u001b[0;32m--> 119\u001b[0m     \u001b[38;5;28;01mraise\u001b[39;00m \u001b[38;5;167;01mImportError\u001b[39;00m(\n\u001b[1;32m    120\u001b[0m         \u001b[38;5;124m\"\u001b[39m\u001b[38;5;124mUnable to import e2b, please install with `pip install e2b`.\u001b[39m\u001b[38;5;124m\"\u001b[39m\n\u001b[1;32m    121\u001b[0m     ) \u001b[38;5;28;01mfrom\u001b[39;00m \u001b[38;5;21;01me\u001b[39;00m\n\u001b[1;32m    123\u001b[0m \u001b[38;5;66;03m# If no API key is provided, E2B will try to read it from the environment\u001b[39;00m\n\u001b[1;32m    124\u001b[0m \u001b[38;5;66;03m# variable E2B_API_KEY\u001b[39;00m\n\u001b[1;32m    125\u001b[0m \u001b[38;5;28msuper\u001b[39m()\u001b[38;5;241m.\u001b[39m\u001b[38;5;21m__init__\u001b[39m(description\u001b[38;5;241m=\u001b[39mbase_description, \u001b[38;5;241m*\u001b[39m\u001b[38;5;241m*\u001b[39mkwargs)\n",
      "\u001b[0;31mImportError\u001b[0m: Unable to import e2b, please install with `pip install e2b`."
     ]
    }
   ],
   "source": [
    "e2b_data_analysis_tool = E2BDataAnalysisTool(\n",
    "    # Pass environment variables to the sandbox\n",
    "    # env_vars={\"MY_SECRET\": \"secret_value\"},\n",
    "    # on_stdout=lambda stdout: print(\"stdout:\", stdout),\n",
    "    # on_stderr=lambda stderr: print(\"stderr:\", stderr),\n",
    "    # on_artifact=save_artifact,\n",
    ")"
   ]
  }
 ],
 "metadata": {
  "language_info": {
   "name": "python"
  }
 },
 "nbformat": 4,
 "nbformat_minor": 2
}
